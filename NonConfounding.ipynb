{
 "cells": [
  {
   "cell_type": "code",
   "execution_count": 1,
   "metadata": {},
   "outputs": [],
   "source": [
    "import numpy as np\n",
    "import matplotlib.pyplot as plt\n",
    "\n",
    "from Simulators import BanditSimulator, ConfoundingBanditSimulator\n",
    "from Samplers import StandardThomspon, CausalThomspon\n",
    "from Environment import Environment"
   ]
  },
  {
   "cell_type": "code",
   "execution_count": 2,
   "metadata": {},
   "outputs": [],
   "source": [
    "# Total Regret after n pulls:\n",
    "def regret(probabilities, choices):  \n",
    "    w_opt = probabilities.max()\n",
    "    return(w_opt - probabilities[choices.astype(int)]).cumsum()"
   ]
  },
  {
   "cell_type": "code",
   "execution_count": 3,
   "metadata": {},
   "outputs": [],
   "source": [
    "# Input bandit probabilities\n",
    "True_bandit_probs = np.array([0.3, 0.60, 0.75])\n",
    "\n",
    "# Simulate the bandits\n",
    "bandits = BanditSimulator(True_bandit_probs)\n",
    "\n",
    "# Select sampling algorithm\n",
    "bandit_algo = StandardThomspon(bandits, Environment({}))"
   ]
  },
  {
   "cell_type": "code",
   "execution_count": null,
   "metadata": {},
   "outputs": [],
   "source": [
    "# Cumulative regret:\n",
    "n_pulls = 1000 # number pulls for a trial\n",
    "n_trials = 10 # number of trials/times we repeat the experiment to get E[regret]\n",
    "expected_total_regret = np.zeros(n_pulls)\n",
    "for i in range(n_trials):\n",
    "    bandit_algo.initialize() # reset these variables to their blank states\n",
    "    bandit_algo.sample_bandits(n_pulls)\n",
    "    regret_this_trial = regret(True_bandit_probs, np.array(bandit_algo.choices))\n",
    "    expected_total_regret += regret_this_trial                                   "
   ]
  },
  {
   "cell_type": "code",
   "execution_count": null,
   "metadata": {},
   "outputs": [],
   "source": [
    "plt.plot(expected_total_regret/n_trials, lw =3,\n",
    "          label = \"Standard Thompson\")\n",
    "\n",
    "plt.title(\"Expected total regret of different multi-armed bandit strategies\")\n",
    "plt.xlabel(\"Number of pulls\")\n",
    "plt.ylabel(\"Expected total regret \\n after $n$ pulls\")\n",
    "plt.legend(loc=\"upper left\");\n",
    "plt.show()"
   ]
  }
 ],
 "metadata": {
  "kernelspec": {
   "display_name": "Python 3",
   "language": "python",
   "name": "python3"
  },
  "language_info": {
   "codemirror_mode": {
    "name": "ipython",
    "version": 3
   },
   "file_extension": ".py",
   "mimetype": "text/x-python",
   "name": "python",
   "nbconvert_exporter": "python",
   "pygments_lexer": "ipython3",
   "version": "3.6.5"
  }
 },
 "nbformat": 4,
 "nbformat_minor": 2
}
