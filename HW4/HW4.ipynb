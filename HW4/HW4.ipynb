{
 "cells": [
  {
   "cell_type": "markdown",
   "metadata": {},
   "source": [
    "# HW 4\n",
    "## Chris Botica and Nick Tyler"
   ]
  },
  {
   "cell_type": "markdown",
   "metadata": {},
   "source": [
    "## 1. Necessity and Sufficiency"
   ]
  },
  {
   "cell_type": "markdown",
   "metadata": {},
   "source": [
    "### 1.1 Probability of Neccessity and Sufficiency"
   ]
  },
  {
   "cell_type": "markdown",
   "metadata": {},
   "source": [
    "Since we assume monotonicity, by **Theorem 9.2.15** (pg 293) of Causality, we have:\n",
    "\n",
    "\\begin{align} PNS = P(Y=1|do(X=1))-P(Y=1|do(X=0)) \\end{align}\n",
    "\n",
    "\\begin{align} PN = \\frac{P(Y=1)-P(Y=1|do(X=0))}{P(Y=1,X=1)} \\end{align}\n",
    "\n",
    "\\begin{align} PS = \\frac{P(Y=1|do(X=1))-P(Y=1)}{P(Y=0,X=0)} \\end{align}"
   ]
  },
  {
   "cell_type": "markdown",
   "metadata": {},
   "source": [
    "### 1.1.1"
   ]
  },
  {
   "cell_type": "markdown",
   "metadata": {},
   "source": [
    "From the theorem above we have that \n",
    "\n",
    "\\begin{align} PN = \\frac{P(Y=1)-P(Y=1|do(X=0))}{P(Y=1,X=1)} \\end{align}"
   ]
  },
  {
   "cell_type": "markdown",
   "metadata": {},
   "source": [
    "From the SCM we have that $y=(x \\wedge q)\\vee n_y$. Since $x=n_x$ and $q=n_q$, this is mathematically equivalent to       $y=(n_x \\wedge n_q)\\vee n_y$. Now, since $n_x \\sim BernoulliBool(p=0.5)$, $n_y \\sim BernoulliBool(p=0.9)$, and  $n_q  \\sim BernoulliBool(p=0.2)$, we conclude that $P(n_x=1)=0.5$, $P(n_q=1)=0.9$, and $P(n_y=1)=0.2$.\n",
    "\n",
    "Thus, since $n_x$, $n_q$, $n_y$ are independent, we have\n",
    "\\begin{align}  P(Y=1) &= P((n_x \\wedge n_q)\\vee n_y) \\\\\n",
    "                      &= P(n_x \\wedge n_q)+P(n_y)-P(n_x \\wedge n_q \\wedge n_y) \\\\\n",
    "                      &= P(n_x)P(n_q)+P(n_y)-P(n_x)P(n_q)P(n_y) \\\\\n",
    "                      &= 0.5*0.9+0.2-0.5*0.9*0.2 \\\\\n",
    "                      &= 0.56 \\end{align}\n",
    "\n",
    "\n",
    "                      \n",
    "Using the SCM we get\n",
    "\\begin{align}  P(Y=1|do(X=0)) &= P((0 \\wedge q)\\vee n_y) \\\\\n",
    "                              &= P((0 \\wedge n_q)\\vee n_y) \\;\\;\\; \\text{(since $q=n_q$)}\\\\\n",
    "                              &= P(0 \\vee n_y) \\\\   \n",
    "                              &= P(n_y) \\\\ \n",
    "                              &= 0.2 \\end{align}\n",
    "\n",
    "And finally,\n",
    "\\begin{align}  P(Y=1,X=1) &= P((1 \\wedge n_q)\\vee n_y) \\\\\n",
    "                              &= P(n_q \\vee n_y) \\\\   \n",
    "                              &= P(n_q)+P(n_y)-P(n_q \\wedge n_q) \\\\ \n",
    "                              &= 0.9+0.2-0.9*0.2 \\\\ \n",
    "                              &= 0.92 \\end{align}\n",
    "                              \n",
    "Therefore, we have\n",
    "\\begin{align} PN &= \\frac{P(Y=1)-P(Y=1|do(X=0))}{P(Y=1,X=1)} \\\\\n",
    "                 &= \\frac{0.56-0.2}{0.92} \\\\\n",
    "                 &= 0.39 \\end{align}"
   ]
  },
  {
   "cell_type": "markdown",
   "metadata": {},
   "source": [
    "### 1.1.2"
   ]
  },
  {
   "cell_type": "markdown",
   "metadata": {},
   "source": [
    "From the theorem above we also have \n",
    "\n",
    "\\begin{align} PS = \\frac{P(Y=1|do(X=1))-P(Y=1)}{P(Y=0,X=0)} \\end{align}"
   ]
  },
  {
   "cell_type": "markdown",
   "metadata": {},
   "source": [
    "Using the SCM, and the fact that $n_x$, $n_q$, $n_y$ are independent, we have:\n",
    "\n",
    "\\begin{align}  P(Y=1|do(X=1)) &= P((1 \\wedge q)\\vee n_y) \\\\\n",
    "                              &= P((1 \\wedge n_q)\\vee n_y) \\;\\;\\; \\text{(since $q=n_q$)} \\\\\n",
    "                              &= P(n_q \\vee n_y) \\\\   \n",
    "                              &= P(n_q)+P(n_y)-P(n_q \\wedge n_q) \\\\ \n",
    "                              &= 0.9+0.2-0.9*0.2 \\\\ \n",
    "                              &= 0.92 \\end{align}\n",
    "                      \n",
    "And\n",
    "\\begin{align}  P(Y=1) = 0.56 \\;\\;\\; \\text{(from 1.1.1.)}\\end{align}\n",
    "\n",
    "And finally,\n",
    "\\begin{align}  P(Y=0,X=0) &= P((0 \\wedge q)\\vee n_y=0) \\\\\n",
    "                          &= P(0 \\vee n_y =0) \\\\   \n",
    "                          &= P(n_y =0)\\\\ \n",
    "                          &= 0.8 \\end{align}\n",
    "                              \n",
    "Therefore, we have\n",
    "\\begin{align} PS &= \\frac{P(Y=1|do(X=1))-P(Y=1)}{P(Y=0,X=0)} \\\\\n",
    "                 &= \\frac{0.92-0.56}{0.8} \\\\\n",
    "                 &= 0.45 \\end{align}\n"
   ]
  },
  {
   "cell_type": "markdown",
   "metadata": {},
   "source": [
    "### 1.2 Probability of Neccessity and Sufficiency, and Identifiability"
   ]
  },
  {
   "cell_type": "markdown",
   "metadata": {},
   "source": [
    "### 1.2.1"
   ]
  },
  {
   "cell_type": "markdown",
   "metadata": {},
   "source": [
    "**??????????????**\n",
    "\n",
    "**QUESTION: How de we \"assume only structural assignment for Y is known\", but also find PSN in Problem 1 (in which we knew the structural assignment)???? Do we now assume X is exogenous?**\n",
    "\n"
   ]
  },
  {
   "cell_type": "markdown",
   "metadata": {},
   "source": [
    "**For now I'll just assume this means calculate 1.2.1. as if we knew the structural assignment.....**"
   ]
  },
  {
   "cell_type": "markdown",
   "metadata": {},
   "source": [
    "In problem 1.1. we only assume monotonicity and know the structural assignment of each variable. In this case, we can apply **Theorem 9.2.15** (pg 293) of Causality, to find the $PNS$:\n",
    "\n",
    "\\begin{align} PNS = P(Y=1|do(X=1))-P(Y=1|do(X=0)) \\end{align}\n",
    "\n",
    "In 1.1. we found that  \n",
    "\n",
    "\\begin{align} P(Y=1|do(X=1)) = 0.92 \\end{align}\n",
    "\n",
    "and \n",
    "\n",
    "\\begin{align} P(Y=1|do(X=0)) = 0.2 \\end{align}\n",
    "\n",
    "Therefore, we find \n",
    "\n",
    "\\begin{align} PNS = 0.92-0.2 = 0.722 \\end{align}"
   ]
  },
  {
   "cell_type": "markdown",
   "metadata": {},
   "source": [
    "### 1.2.2"
   ]
  },
  {
   "cell_type": "markdown",
   "metadata": {},
   "source": [
    "For this problem, we assume $X$ is exogenous and $Y$ is monotonic and we use the conditionals to find $PNS$, $PN$, and $PS$."
   ]
  },
  {
   "cell_type": "markdown",
   "metadata": {},
   "source": [
    "We have\n",
    "\n",
    "\\begin{align} PNS = P(Y=1|X=1)-P(Y=1|X=0) = 0.9198813 - 0.1992071 = 0.7206742 \\end{align}\n",
    "\n",
    "and \n",
    "\n",
    "\\begin{align} PN = \\frac{PNS}{P(Y=1|X=1)}= \\frac{0.7206742}{0.9198813} = 0.7834426 \\end{align}\n",
    "\n",
    "and finally,\n",
    "\n",
    "\\begin{align} PS = \\frac{PNS}{P(Y=0|X=0)} = \\frac{PNS}{1-P(Y=1|X=0)} = \\frac{0.7206742}{1-0.1992071} = 0.89995 \\end{align}\n",
    "                 "
   ]
  },
  {
   "cell_type": "markdown",
   "metadata": {},
   "source": [
    "## 2. Mediation"
   ]
  },
  {
   "cell_type": "markdown",
   "metadata": {},
   "source": [
    "need to add"
   ]
  },
  {
   "cell_type": "markdown",
   "metadata": {},
   "source": [
    "## 3. Effect of the treatment on the treated"
   ]
  },
  {
   "cell_type": "markdown",
   "metadata": {},
   "source": [
    "Let's load our dataset"
   ]
  },
  {
   "cell_type": "code",
   "execution_count": 1,
   "metadata": {},
   "outputs": [],
   "source": [
    "import numpy as np\n",
    "data = np.genfromtxt('.\\HW4.csv', delimiter=',', skip_header =1, names = ['nan','x','y','z'])"
   ]
  },
  {
   "cell_type": "markdown",
   "metadata": {},
   "source": [
    "1) \n",
    "First, we show how to obtain $E(Y_{X=0}|X=1)$\n",
    "\n",
    "Since\n",
    "\\begin{align}  P(Y_{X=0}|X=1) &= \\sum_{z}P(Y_{X=0},Z=z|X=1) \\\\\n",
    "                              &= \\sum_{z}P(Y_{X=0}|Z=z,X=1)P(Z=z|X=1) \\;\\;\\; \\text{(marginalize over $z$)}\\\\\n",
    "                              &= \\sum_{z}P(Y_{X=0}|Z=z,X=0)P(Z=z|X=1) \\;\\;\\; \\text{(since $X \\perp Y_X | Z$)}\\\\\n",
    "                              &= \\sum_{z}P(Y|Z=z,X=0)P(Z=z|X=1) \\;\\;\\; \\text{(by Consistency Axiom)}\\end{align}\n",
    "we have \n",
    "\\begin{align}  E(Y_{X=0}|X=1)= \\sum_{z}E(Y|Z=z,X=0)P(Z=z|X=1) \\end{align}\n",
    "\n",
    "Since $Y$ is a continuous random variable, we find that \n",
    "\\begin{align} E(Y|Z=z,X=0) = \\sum_{z} \\Big[\\Big(\\frac{1}{|i: z_i=z, x_i=0|} \\sum_{i: z_i=z, x_i=0} y_i \\Big)                        \\Big(\\frac{1}{|i: x_i=1|} \\sum_{i: z_i=z,x_i=1} z_i \\Big)\\Big] \\end{align}"
   ]
  },
  {
   "cell_type": "markdown",
   "metadata": {},
   "source": [
    "2) We find $E(Y_{X=1}|X=1)$. \n",
    "\n",
    "By the **Consistency Axiom** (Corollary 7.3.2., Causality, pg 229) we have \n",
    "\n",
    "\\begin{align} P(Y_{X=1}|X=1) = P(Y|X=1)\\end{align}\n",
    "\n",
    "Thus, \n",
    "\n",
    "\\begin{align} E(Y_{X=1}|X=1) = \\frac{1}{|i: x_i=1|} \\sum_{i: x_i=0} y_i\\end{align}\n"
   ]
  },
  {
   "cell_type": "markdown",
   "metadata": {},
   "source": [
    "3) We find $E(Y_{X=1}-Y_{X=0}|X=1)$\n",
    "\n",
    "For the ETT we have\n",
    "\n",
    "\\begin{align} P(Y_{X=1}-Y_{X=0}|X=1) = P(Y|X=1)-\\sum_{z}P(Y|Z=z,X=0)P(Z=z|X=1)\\end{align}\n",
    "\n",
    "Thus, \n",
    "\n",
    "\\begin{align} E(Y_{X=1}-Y_{X=0}|X=1) &= E(Y_{X=1}|X=1) - E(Y_{X=0}|X=1) \\\\\n",
    "                                     &= \\frac{1}{|j: x_j=1|} \\sum_{j: x_j=0} \\big[y_j\\big] - \\sum_{z} \\Big[\\Big(\\frac{1}{|i: z_i=z, x_i=0|} \\sum_{i: z_i=z, x_i=0} y_i \\Big) \\Big(\\frac{1}{|i: x_i=1|} \\sum_{i: z_i =z, x_i=1} z_i \\Big)\\Big] \\end{align}"
   ]
  },
  {
   "cell_type": "markdown",
   "metadata": {},
   "source": [
    "4) We find $E(Y_{X=1}-Y_{X=0})$\n",
    "\n",
    "Since $Z$ satisfies the backdoor criterion, we find\n",
    "\n",
    "\\begin{align} P(Y_{X=1})=\\sum_{z}P(Y|X=1,Z=z)P(Z=z) \\end{align}\n",
    "and\n",
    "\\begin{align} P(Y_{X=0})=\\sum_{z}P(Y|X=0,Z=z)P(Z=z) \\end{align}\n",
    "Therefore, \n",
    "\\begin{align} P(Y_{X=1}-Y_{X=0})=\\sum_{z}\\lbrack P(Y|X=1,Z=z)-P(Y|X=0,Z=z) \\rbrack P(Z=z) \\end{align}\n",
    "\n",
    "Thus, \n",
    "\n",
    "\\begin{align} E(Y_{X=1}-Y_{X=0}) &=\\sum_{z}\\lbrack E(Y|X=1,Z=z)-E(Y|X=0,Z=z) \\rbrack P(Z=z) \\\\ \n",
    "                                 &=\\sum_{z} \\bigg[\\Big(\\frac{1}{|i: z_i=z, x_i=1|} \\sum_{i: z_i=z, x_i=1} y_i \\Big) -\\Big(\\frac{1}{|i: z_i=z, x_i=0|} \\sum_{i: z_i=z, x_i=0} y_i \\Big) \\bigg]\\frac{1}{\\text{num obs}} \\sum_{i: z_i=z} z_i \\end{align}\n"
   ]
  },
  {
   "cell_type": "code",
   "execution_count": null,
   "metadata": {},
   "outputs": [],
   "source": []
  },
  {
   "cell_type": "code",
   "execution_count": 2,
   "metadata": {},
   "outputs": [],
   "source": [
    "# TO DO: finish up code.. \n",
    "\n",
    "# def prob_y_given_z_x(y, z, x):\n",
    "#         y_vals = [data['y'][i] for i, (x_val, z_val) in enumerate(zip(data['x'], data['z']))\n",
    "#                   if x_val == x and z_val == z ]\n",
    "#         prob = y_vals.count(y) / len(y_vals)\n",
    "#         return prob\n",
    "    \n",
    "# def prob_y_given_x(y, x):\n",
    "#         y_vals = [data['y'][i] for i, x_val in enumerate(data['x']) if x_val == x ]\n",
    "#         return y_vals.count(y) / len(y_vals)\n",
    "\n",
    "# # Calculate P(Drunk=d & Blink=b | X=x)\n",
    "# def prob_z_given_x(z, x):\n",
    "#         z_vals = [data['z'][i] for i, x_val in enumerate(data['x']) if x_val == x ]\n",
    "#         return z_vals.count(z) / len(z_vals)\n",
    "\n",
    "#     Q1 = np.sum([self._cond_prob_y(counter_intuition, drunk_val, blink_val)\n",
    "#                  * self._cond_prob_db(drunk_val, blink_val, intuition)\n",
    "#                  for drunk_val in [0, 1] for blink_val in [0, 1]])\n",
    "\n",
    "#     Q2 = self._cond_prob_y(intuition)"
   ]
  },
  {
   "cell_type": "code",
   "execution_count": null,
   "metadata": {},
   "outputs": [],
   "source": []
  }
 ],
 "metadata": {
  "kernelspec": {
   "display_name": "Python 3",
   "language": "python",
   "name": "python3"
  },
  "language_info": {
   "codemirror_mode": {
    "name": "ipython",
    "version": 3
   },
   "file_extension": ".py",
   "mimetype": "text/x-python",
   "name": "python",
   "nbconvert_exporter": "python",
   "pygments_lexer": "ipython3",
   "version": "3.7.1"
  }
 },
 "nbformat": 4,
 "nbformat_minor": 2
}
