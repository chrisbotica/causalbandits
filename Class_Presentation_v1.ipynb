{
 "cells": [
  {
   "cell_type": "markdown",
   "metadata": {},
   "source": [
    "# Causal Bandits\n",
    "### Chris Botica and Nick Tyler"
   ]
  },
  {
   "cell_type": "code",
   "execution_count": 1,
   "metadata": {},
   "outputs": [],
   "source": [
    "import numpy as np\n",
    "from torch import tensor\n",
    "from pyro import sample, do\n",
    "import pyro.distributions as dist\n",
    "from time import time\n",
    "import matplotlib.pyplot as plt"
   ]
  },
  {
   "cell_type": "markdown",
   "metadata": {},
   "source": [
    "### 1. Intro"
   ]
  },
  {
   "cell_type": "markdown",
   "metadata": {},
   "source": [
    "We have a multi-armed bandit (2 arms/machines), each with it's own prior payout probability distribution. Our agent wants to maximize the reward"
   ]
  },
  {
   "cell_type": "markdown",
   "metadata": {},
   "source": [
    "![Multi-armed Bandit](multiarmedbandit.jpg)"
   ]
  },
  {
   "cell_type": "markdown",
   "metadata": {},
   "source": [
    "This problem is treated as if each machine has its own hidden probability distribution and the agent applies a sampling strategy to learn this distribution (explore) while trying to pull on the \"best\" arm to maximize rewards (exploit). \n",
    "\n",
    "There exists multiple sampling strategies that balance exploration and exploitation but, traditionally, all of these treat the each variable as fully observable. \n",
    "\n",
    "Example of such models:\n"
   ]
  },
  {
   "cell_type": "markdown",
   "metadata": {},
   "source": [
    "![Traditional Models](Model1.png)"
   ]
  },
  {
   "cell_type": "markdown",
   "metadata": {},
   "source": [
    "However, we treat the environment as an unobserved confounder"
   ]
  },
  {
   "cell_type": "markdown",
   "metadata": {},
   "source": [
    "![Our Model](Model2.png)"
   ]
  },
  {
   "cell_type": "markdown",
   "metadata": {},
   "source": [
    "Specifically, we treat the environment as 2 confounders. In our problem, the casino manipulated the payout probabilites for each machine based on the users drunkness and whether or not the machine is blinking:"
   ]
  },
  {
   "cell_type": "markdown",
   "metadata": {},
   "source": [
    "![Our Model with Blink Drunk](Model3.png)"
   ]
  },
  {
   "cell_type": "markdown",
   "metadata": {},
   "source": [
    "The casino decides on the following payout probabilities for the machines as a function of the agent's drunkness, the machine's blinkiness, and the arm choice:   (need to update table....)"
   ]
  },
  {
   "cell_type": "markdown",
   "metadata": {},
   "source": [
    "|       -       |   $Drunk = 0$  |        -       |   $Drunk = 1$  |        -       |\n",
    "|:-------------:|:--------------:|:--------------:|:--------------:|:--------------:|\n",
    "|       -       | $Blinking = 0$ | $Blinking = 1$ | $Blinking = 0$ | $Blinking = 1$ |\n",
    "| $Machine = 1$ |      0.10      |      0.50      |      0.40      |      0.20      |\n",
    "| $Machine = 2$ |      0.50      |      0.10      |      0.20      |      0.40      |"
   ]
  },
  {
   "cell_type": "markdown",
   "metadata": {},
   "source": [
    "### 2. Environment"
   ]
  },
  {
   "cell_type": "markdown",
   "metadata": {},
   "source": [
    "We have probabilities for the drunk, blink:"
   ]
  },
  {
   "cell_type": "code",
   "execution_count": 2,
   "metadata": {},
   "outputs": [],
   "source": [
    "# Setup the environment\n",
    "environment_probs = {\n",
    "    'drunk': .5,\n",
    "    'blinking': .5\n",
    "}"
   ]
  },
  {
   "cell_type": "markdown",
   "metadata": {},
   "source": [
    "Using these as an input we create our environment class"
   ]
  },
  {
   "cell_type": "code",
   "execution_count": 3,
   "metadata": {},
   "outputs": [],
   "source": [
    "class Environment(object):\n",
    "\n",
    "    def __init__(self, env_probabilities):\n",
    "        self.env_probabilities = env_probabilities\n",
    "\n",
    "    def observe(self):\n",
    "        env = {}\n",
    "        for key, value in self.env_probabilities.items():\n",
    "            env[key] = sample(key, dist.Categorical(tensor([1 - value, value])))\n",
    "        return env"
   ]
  },
  {
   "cell_type": "markdown",
   "metadata": {},
   "source": [
    "We set our environment:"
   ]
  },
  {
   "cell_type": "code",
   "execution_count": 4,
   "metadata": {},
   "outputs": [],
   "source": [
    "environment = Environment(environment_probs)"
   ]
  },
  {
   "cell_type": "markdown",
   "metadata": {},
   "source": [
    "### 3. Bandit Simulator"
   ]
  },
  {
   "cell_type": "markdown",
   "metadata": {},
   "source": [
    "The casino has the following hidden reward probabilities:"
   ]
  },
  {
   "cell_type": "code",
   "execution_count": 5,
   "metadata": {},
   "outputs": [],
   "source": [
    "causal_bandit_probs = np.array([\n",
    "    np.array([\n",
    "        np.array([.1, .5]),\n",
    "        np.array([.4, .2])\n",
    "    ]),\n",
    "    np.array([\n",
    "        np.array([.5, .1]),\n",
    "        np.array([.2, .4])\n",
    "    ])\n",
    "])"
   ]
  },
  {
   "cell_type": "markdown",
   "metadata": {},
   "source": [
    "We use these and the environment to make our bandit simulator class"
   ]
  },
  {
   "cell_type": "code",
   "execution_count": 6,
   "metadata": {},
   "outputs": [],
   "source": [
    "class ConfoundingBanditSimulator(object):\n",
    "\n",
    "    def __init__(self, reward_probabilities):\n",
    "        self.reward_probabilities = reward_probabilities\n",
    "\n",
    "    def gambler_model(self, environment):  \n",
    "        drunk = int(environment[\"drunk\"])\n",
    "        blinking = int(environment[\"blinking\"])\n",
    "        intuition = int(bool(drunk) ^ bool(blinking))  # xor(drunk, blinking)\n",
    "\n",
    "        # Select arm based on intuition\n",
    "        arm = sample('arm',dist.Delta(tensor(intuition)))\n",
    "\n",
    "        # Get Reward\n",
    "        reward_probability = self.reward_probabilities[arm][drunk][blinking]\n",
    "        reward = sample('reward', dist.Bernoulli(reward_probability))\n",
    "\n",
    "        return reward\n",
    "\n",
    "    def __len__(self):\n",
    "        return len(self.reward_probabilities)"
   ]
  },
  {
   "cell_type": "markdown",
   "metadata": {},
   "source": [
    "Set our bandit simulator:"
   ]
  },
  {
   "cell_type": "code",
   "execution_count": 7,
   "metadata": {},
   "outputs": [],
   "source": [
    "confoundingBandits = ConfoundingBanditSimulator(causal_bandit_probs)"
   ]
  },
  {
   "cell_type": "markdown",
   "metadata": {},
   "source": [
    "### 4. Sampler"
   ]
  },
  {
   "cell_type": "markdown",
   "metadata": {},
   "source": [
    "BaseSampler as a base for all our samplers"
   ]
  },
  {
   "cell_type": "code",
   "execution_count": 8,
   "metadata": {},
   "outputs": [],
   "source": [
    "DRUNK = 'drunk'\n",
    "BLINKING = 'blinking'\n",
    "\n",
    "\n",
    "class BaseSampler(object):\n",
    "    \"\"\"\n",
    "    A base class with standard methods used by more complex samplers.\n",
    "\n",
    "    parameters:\n",
    "    bandits: a bandit class with .pull method\n",
    "    environment: an environment that can be .observe for variables\n",
    "    \"\"\"\n",
    "\n",
    "    @staticmethod\n",
    "    def _get_init_array(n):\n",
    "        return np.zeros(n)\n",
    "\n",
    "    def __init__(self, bandits, environment):\n",
    "        self.bandits = bandits\n",
    "        self.environment = environment\n",
    "        self.wins = self.__class__._get_init_array(len(self.bandits))\n",
    "        self.trials = self.__class__._get_init_array(len(self.bandits))\n",
    "        self.N = 0\n",
    "        self.choices = []\n",
    "        self.current_scores = []\n",
    "        self.observed_envs = []\n",
    "\n",
    "    def initialize(self):\n",
    "        self.wins = self.__class__._get_init_array(len(self.bandits))\n",
    "        self.trials = self.__class__._get_init_array(len(self.bandits))\n",
    "        self.N = 0\n",
    "        self.choices = []\n",
    "        self.current_scores = []\n",
    "        self.observed_envs = []\n",
    "\n",
    "    def update_parameters(self, choice, result, observed_env):\n",
    "        self._update_wins_trials(choice, result, observed_env)\n",
    "        self.current_scores.append(result)\n",
    "        self.N += 1\n",
    "        self.choices.append(choice)\n",
    "        self.observed_envs.append(observed_env)\n",
    "\n",
    "    def _update_wins_trials(self, choice, result, observed_env):\n",
    "        self.wins[choice] += result\n",
    "        self.trials[choice] += 1\n",
    "\n",
    "    def sample_bandits(self, n=1):\n",
    "        for k in range(n):\n",
    "            self._pull_bandit()\n",
    "\n",
    "    def _pull_bandit(self):\n",
    "        observed_env = self.environment.observe()\n",
    "        algo_choice = self._select_arm(observed_env)\n",
    "        model = self.bandits.gambler_model\n",
    "        intervention_model = do(model, {'arm':algo_choice})\n",
    "        result = intervention_model(observed_env)\n",
    "        self.update_parameters(algo_choice, result, observed_env)\n",
    "\n",
    "    def _select_arm(self, observed_env):\n",
    "        return 0\n",
    "    "
   ]
  },
  {
   "cell_type": "markdown",
   "metadata": {},
   "source": [
    "#### 4.1. Standard Thompson Sampling"
   ]
  },
  {
   "cell_type": "markdown",
   "metadata": {},
   "source": [
    "TO DO: \n",
    "- Write out formulation for standard TS"
   ]
  },
  {
   "cell_type": "code",
   "execution_count": 9,
   "metadata": {},
   "outputs": [],
   "source": [
    "class StandardThomspon(BaseSampler):\n",
    "\n",
    "    def _select_arm(self, observed_env):\n",
    "        choice = np.argmax([\n",
    "                sample('arm' + str(i), dist.Beta(1 + self.wins[i], 1 + self.trials[i] - self.wins[i]))\n",
    "                for i in range(len(self.bandits))\n",
    "            ])\n",
    "        return choice"
   ]
  },
  {
   "cell_type": "markdown",
   "metadata": {},
   "source": [
    "#### 4.2. Causal Thompson Sampling"
   ]
  },
  {
   "cell_type": "markdown",
   "metadata": {},
   "source": [
    "TO DO: \n",
    "- write out how we calculated ETT\n",
    "- write out formulation of causal TS"
   ]
  },
  {
   "cell_type": "code",
   "execution_count": 10,
   "metadata": {},
   "outputs": [],
   "source": [
    "class CausalThomspon(BaseSampler):\n",
    "\n",
    "    @staticmethod\n",
    "    def _get_init_array(n):\n",
    "        return np.array([\n",
    "            np.array([np.zeros(n), np.zeros(n)]),\n",
    "            np.array([np.zeros(n), np.zeros(n)])\n",
    "        ])\n",
    "\n",
    "    def _update_wins_trials(self, choice, result, observed_env):\n",
    "        drunk = observed_env[DRUNK]\n",
    "        blinking = observed_env[BLINKING]\n",
    "        self.wins[drunk][blinking][choice] += result\n",
    "        self.trials[drunk][blinking][choice] += 1\n",
    "\n",
    "    # Calculate P(Y=1 | X=x, Drunk = d, Blinking = b)\n",
    "    def _cond_prob_y(self, x, d=-1, b=-1):\n",
    "        if d == b == -1:  # meanining only condition on x\n",
    "            y_vals = [self.current_scores[i] for i, x_val in enumerate(self.choices) if x_val == x]\n",
    "        else:\n",
    "            y_vals = [self.current_scores[i] for i, (x_val, env) in enumerate(zip(self.choices, self.observed_envs))\n",
    "                      if x_val == x and env[DRUNK] == d and env[BLINKING] == b]\n",
    "\n",
    "        if len(y_vals) == 0:\n",
    "            return 0\n",
    "        else:\n",
    "            return sum(y_vals) / len(y_vals)\n",
    "\n",
    "    # Calculate P(Drunk=d & Blink=b | X=x)\n",
    "    def _cond_prob_db(self, d, b, x):\n",
    "        no_events = np.sum([1 for i, (x_val, env) in enumerate(zip(self.choices, self.observed_envs))\n",
    "                            if x_val == x and env[DRUNK] == d and env[BLINKING] == b])\n",
    "        no_outcomes = np.sum([1 for i, x_val in enumerate(self.choices) if x_val == x])\n",
    "\n",
    "        if no_outcomes == 0:\n",
    "            return 0\n",
    "        else:\n",
    "            return no_events / no_outcomes\n",
    "\n",
    "    def _select_arm(self, observed_env):\n",
    "        # Get environment variables that we care about\n",
    "        drunk = observed_env[DRUNK]\n",
    "        blinking = observed_env[BLINKING]\n",
    "\n",
    "        # Get the intuition for this trial:\n",
    "        # Based on Bareinboim et. al., this is just the xor function of drunk and blinking\n",
    "        intuition = int(bool(drunk) ^ bool(blinking))  # xor(drunk, blinking)\n",
    "\n",
    "        # Estimate the payout for the counter-intuition: E(Y_(X=x')|X=x)\n",
    "        counter_intuition = abs(intuition - 1)\n",
    "        Q1 = np.sum([self._cond_prob_y(counter_intuition, drunk_val, blink_val)\n",
    "                     * self._cond_prob_db(drunk_val, blink_val, counter_intuition)\n",
    "                     for drunk_val in [0, 1] for blink_val in [0, 1]])\n",
    "\n",
    "        # Estimate the payout for the intuition (posterior predictive): P(y|X=x)\n",
    "        Q2 = self._cond_prob_y(intuition)\n",
    "\n",
    "        w = [1, 1]  # initialize weights (per the paper)\n",
    "        bias = 1 - abs(Q1 - Q2)  # weighting strength (per the paper)\n",
    "\n",
    "        if Q1 > Q2:\n",
    "            w[intuition] = bias  # per the paper\n",
    "        else:\n",
    "            w[counter_intuition] = bias\n",
    "\n",
    "        # Get the #successes and # failures for each machine given the intuition:\n",
    "        # Since we store the successes as wins[drunk][blinking] I want to get the possible drunkess and\n",
    "        # blinkness that would yield our intuition (2 posibilities since we are doing inverse of xor)\n",
    "        env_given_intuition = [[drunk, blinking],\n",
    "                               [abs(drunk - 1), abs(blinking - 1)]]\n",
    "\n",
    "        # Thus, env_given_intuition[k] corresponds to the drunk&blink values\n",
    "        # that yield that intuition\n",
    "        wins = sum([self.wins[drunk][blinking] for drunk, blinking in env_given_intuition])\n",
    "        trials = sum([self.trials[drunk][blinking] for drunk, blinking in env_given_intuition])\n",
    "        alpha = 1 + wins\n",
    "        beta = 1 + trials - wins\n",
    "\n",
    "        # Choose arm:\n",
    "        choice = np.argmax([sample('arm1', dist.Beta(alpha[0], beta[0])) * w[0],\n",
    "                            sample('arm2', dist.Beta(alpha[1], beta[1])) * w[1]])\n",
    "\n",
    "        return choice"
   ]
  },
  {
   "cell_type": "markdown",
   "metadata": {},
   "source": [
    "Set our samplers:"
   ]
  },
  {
   "cell_type": "code",
   "execution_count": 11,
   "metadata": {},
   "outputs": [],
   "source": [
    "standard_sampler = StandardThomspon(confoundingBandits, environment)\n",
    "causal_sampler = CausalThomspon(confoundingBandits, environment)"
   ]
  },
  {
   "cell_type": "markdown",
   "metadata": {},
   "source": [
    "### 5. Regret and Prob of picking best arm"
   ]
  },
  {
   "cell_type": "code",
   "execution_count": 12,
   "metadata": {},
   "outputs": [],
   "source": [
    "def regret_causal(probabilities, choices):\n",
    "    regret_arr = []\n",
    "    last = 0\n",
    "    for i in range(0, len(probabilities)):\n",
    "        prob = probabilities[i]\n",
    "        w_opt = prob.max()\n",
    "        reg = w_opt - prob[choices[i]]\n",
    "        regret_arr.append(reg + last)\n",
    "        last = reg + last\n",
    "    return np.array(regret_arr)\n",
    "\n",
    "# Probability of Selecting Best Arm\n",
    "def prob_best_arm_causal(probabilities, choices):\n",
    "    was_best_selected = [int(np.argmax(prob)==choice) for _,(prob, choice) in enumerate(zip(probabilities, choices))]\n",
    "    cumulative_best_selected = np.array(was_best_selected).cumsum()\n",
    "    prob_best = [cumulative_best_selected[i]/(i+1) for i in range(len(cumulative_best_selected))]\n",
    "    return prob_best"
   ]
  },
  {
   "cell_type": "markdown",
   "metadata": {},
   "source": [
    "### 6. Run simulation"
   ]
  },
  {
   "cell_type": "code",
   "execution_count": 13,
   "metadata": {},
   "outputs": [],
   "source": [
    "def run_simulation(trials, pulls, sampler, true_probabilities):\n",
    "    exp_total_regret = np.zeros(pulls)\n",
    "    exp_prob_best_arm = np.zeros(pulls)\n",
    "    \n",
    "    for trial in range(trials):\n",
    "        sampler.initialize()\n",
    "        sampler.sample_bandits(pulls)\n",
    "        \n",
    "        pull_probabilities = [\n",
    "            true_probabilities[int(env['drunk'])][int(env['blinking'])]\n",
    "            for env in sampler.observed_envs\n",
    "        ]\n",
    "        \n",
    "        exp_total_regret += regret_causal(pull_probabilities, sampler.choices)\n",
    "        exp_prob_best_arm += prob_best_arm_causal(pull_probabilities, sampler.choices)\n",
    "    \n",
    "    return exp_total_regret, exp_prob_best_arm\n",
    "        \n",
    "        \n",
    "\n",
    "n_pulls = 1000 # number pulls for a trial\n",
    "n_trials = 5 # number of trials/times we repeat the experiment to get E[regret]\n",
    "\n",
    "exp_tot_standard_regret, exp_standard_prob_best_arm = run_simulation(\n",
    "    n_trials, n_pulls, standard_sampler, causal_bandit_probs\n",
    ")\n",
    "exp_tot_causal_regret, exp_causal_prob_best_arm = run_simulation(\n",
    "    n_trials, n_pulls, causal_sampler, causal_bandit_probs\n",
    ")"
   ]
  },
  {
   "cell_type": "markdown",
   "metadata": {},
   "source": [
    "Plot Regret"
   ]
  },
  {
   "cell_type": "code",
   "execution_count": 14,
   "metadata": {},
   "outputs": [
    {
     "data": {
      "image/png": "[encoded data removed]",
      "text/plain": [
       "<Figure size 432x288 with 1 Axes>"
      ]
     },
     "metadata": {
      "needs_background": "light"
     },
     "output_type": "display_data"
    }
   ],
   "source": [
    "StandardTS_regret_plot = plt.plot(exp_tot_standard_regret/n_trials, lw =3,\n",
    "                         label = \"Standard Thompson\")\n",
    "CausalTS_regret_plot = plt.plot(exp_tot_causal_regret/n_trials, lw =3,\n",
    "                       label = \"Causal Thompson\")\n",
    "plt.ylim(bottom=0,top = 30)\n",
    "plt.title(\"Expected total regret of our multi-armed bandit strategies\")\n",
    "plt.xlabel(\"Number of pulls\")\n",
    "plt.ylabel(\"Expected total regret \\n after $n$ pulls\")\n",
    "plt.legend(loc=\"upper left\");\n",
    "plt.show()"
   ]
  },
  {
   "cell_type": "markdown",
   "metadata": {},
   "source": [
    "Plot Prob of selecting best arm"
   ]
  },
  {
   "cell_type": "code",
   "execution_count": 15,
   "metadata": {},
   "outputs": [
    {
     "data": {
      "image/png": "[encoded data removed]",
      "text/plain": [
       "<Figure size 432x288 with 1 Axes>"
      ]
     },
     "metadata": {
      "needs_background": "light"
     },
     "output_type": "display_data"
    }
   ],
   "source": [
    "StandardTS_prob_plot = plt.plot(np.divide(exp_standard_prob_best_arm,n_trials), lw =3,\n",
    "                         label = \"Standard Thompson\")\n",
    "CausalTS_prob_plot = plt.plot(np.divide(exp_causal_prob_best_arm,n_trials), lw =3,\n",
    "                       label = \"Causal Thompson\")\n",
    "#plt.ylim(bottom=0,top = 30)\n",
    "plt.title(\"Expected probability of selecting best arm\")\n",
    "plt.xlabel(\"Number of pulls\")\n",
    "plt.ylabel(\"Expected probability of selecting best arm \\n after $n$ pulls\")\n",
    "plt.legend(loc=\"upper left\");\n",
    "plt.show()"
   ]
  }
 ],
 "metadata": {
  "kernelspec": {
   "display_name": "Python 3",
   "language": "python",
   "name": "python3"
  },
  "language_info": {
   "codemirror_mode": {
    "name": "ipython",
    "version": 3
   },
   "file_extension": ".py",
   "mimetype": "text/x-python",
   "name": "python",
   "nbconvert_exporter": "python",
   "pygments_lexer": "ipython3",
   "version": "3.7.1"
  }
 },
 "nbformat": 4,
 "nbformat_minor": 2
}
