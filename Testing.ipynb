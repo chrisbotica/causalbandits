{
 "cells": [
  {
   "cell_type": "code",
   "execution_count": 1,
   "metadata": {},
   "outputs": [],
   "source": [
    "import numpy as np\n",
    "import matplotlib.pyplot as plt"
   ]
  },
  {
   "cell_type": "markdown",
   "metadata": {},
   "source": [
    "Import .py functions"
   ]
  },
  {
   "cell_type": "code",
   "execution_count": 2,
   "metadata": {},
   "outputs": [],
   "source": [
    "from Simulators import BanditSimulator, ConfoundingBanditSimulator\n",
    "from Samplers import StandardThomspon, CausalThomspon\n",
    "from Environment import Environment"
   ]
  },
  {
   "cell_type": "code",
   "execution_count": 3,
   "metadata": {},
   "outputs": [],
   "source": [
    "# Total Regret after n pulls:\n",
    "def regret(probabilities, choices):  \n",
    "    w_opt = probabilities.max()\n",
    "    return(w_opt - probabilities[choices.astype(int)]).cumsum()"
   ]
  },
  {
   "cell_type": "markdown",
   "metadata": {},
   "source": [
    "### Standard Sampler on Non-Confounding simulator"
   ]
  },
  {
   "cell_type": "code",
   "execution_count": 4,
   "metadata": {},
   "outputs": [],
   "source": [
    "# Input bandit probabilities\n",
    "True_bandit_probs = np.array([0.3, 0.60, 0.75])\n",
    "\n",
    "# Simulate the bandits\n",
    "bandits = BanditSimulator(True_bandit_probs)\n",
    "\n",
    "# Select sampling algorithm\n",
    "bandit_algo = StandardThomspon(bandits, Environment({}))"
   ]
  },
  {
   "cell_type": "markdown",
   "metadata": {},
   "source": [
    "If you want to simply run the bandit algorithm, do:"
   ]
  },
  {
   "cell_type": "code",
   "execution_count": 5,
   "metadata": {},
   "outputs": [],
   "source": [
    "n_pulls = 100\n",
    "bandit_algo.sample_bandits(n_pulls)"
   ]
  },
  {
   "cell_type": "markdown",
   "metadata": {},
   "source": [
    "You can check the trials with:"
   ]
  },
  {
   "cell_type": "code",
   "execution_count": 6,
   "metadata": {},
   "outputs": [
    {
     "data": {
      "text/plain": [
       "array([ 2., 18., 80.])"
      ]
     },
     "execution_count": 6,
     "metadata": {},
     "output_type": "execute_result"
    }
   ],
   "source": [
    "bandit_algo.trials"
   ]
  },
  {
   "cell_type": "markdown",
   "metadata": {},
   "source": [
    "The successes with:"
   ]
  },
  {
   "cell_type": "code",
   "execution_count": 7,
   "metadata": {},
   "outputs": [
    {
     "data": {
      "text/plain": [
       "array([ 0., 11., 63.])"
      ]
     },
     "execution_count": 7,
     "metadata": {},
     "output_type": "execute_result"
    }
   ],
   "source": [
    "bandit_algo.wins"
   ]
  },
  {
   "cell_type": "markdown",
   "metadata": {},
   "source": [
    "And the choices"
   ]
  },
  {
   "cell_type": "code",
   "execution_count": 8,
   "metadata": {},
   "outputs": [
    {
     "data": {
      "text/plain": [
       "[array([2., 2., 2., 2., 2., 2., 1., 1., 1., 0., 1., 1., 2., 0., 1., 2., 2.,\n",
       "        2., 2., 2., 2., 1., 2., 2., 1., 2., 1., 1., 2., 2., 1., 2., 1., 1.,\n",
       "        2., 2., 2., 1., 2., 2., 2., 2., 1., 2., 1., 2., 1., 2., 2., 2., 1.,\n",
       "        2., 2., 2., 2., 2., 2., 2., 2., 2., 2., 2., 2., 2., 2., 2., 2., 2.,\n",
       "        2., 2., 2., 2., 2., 2., 2., 2., 2., 2., 2., 2., 2., 2., 2., 2., 2.,\n",
       "        2., 2., 2., 2., 2., 2., 2., 2., 2., 2., 2., 2., 2., 2., 2.])]"
      ]
     },
     "execution_count": 8,
     "metadata": {},
     "output_type": "execute_result"
    }
   ],
   "source": [
    "bandit_algo.choices"
   ]
  },
  {
   "cell_type": "markdown",
   "metadata": {},
   "source": [
    "Plot expected value of regret. For this we repeat the experiment `n_trials` times and calculate the expected value of the regret at each pull. For large values of `n_pulls` and `n_trials`, this takes a couple minutes."
   ]
  },
  {
   "cell_type": "code",
   "execution_count": 9,
   "metadata": {},
   "outputs": [
    {
     "ename": "AttributeError",
     "evalue": "'list' object has no attribute 'astype'",
     "output_type": "error",
     "traceback": [
      "\u001b[0;31m---------------------------------------------------------------------------\u001b[0m",
      "\u001b[0;31mAttributeError\u001b[0m                            Traceback (most recent call last)",
      "\u001b[0;32m<ipython-input-9-067516b684d9>\u001b[0m in \u001b[0;36m<module>\u001b[0;34m()\u001b[0m\n\u001b[1;32m      6\u001b[0m     \u001b[0mbandit_algo\u001b[0m\u001b[0;34m.\u001b[0m\u001b[0minitialize\u001b[0m\u001b[0;34m(\u001b[0m\u001b[0;34m)\u001b[0m \u001b[0;31m# reset these variables to their blank states\u001b[0m\u001b[0;34m\u001b[0m\u001b[0m\n\u001b[1;32m      7\u001b[0m     \u001b[0mbandit_algo\u001b[0m\u001b[0;34m.\u001b[0m\u001b[0msample_bandits\u001b[0m\u001b[0;34m(\u001b[0m\u001b[0mn_pulls\u001b[0m\u001b[0;34m)\u001b[0m\u001b[0;34m\u001b[0m\u001b[0m\n\u001b[0;32m----> 8\u001b[0;31m     \u001b[0mregret_this_trial\u001b[0m \u001b[0;34m=\u001b[0m \u001b[0mregret\u001b[0m\u001b[0;34m(\u001b[0m\u001b[0mTrue_bandit_probs\u001b[0m\u001b[0;34m,\u001b[0m \u001b[0mbandit_algo\u001b[0m\u001b[0;34m.\u001b[0m\u001b[0mchoices\u001b[0m\u001b[0;34m)\u001b[0m\u001b[0;34m\u001b[0m\u001b[0m\n\u001b[0m\u001b[1;32m      9\u001b[0m     \u001b[0mexpected_total_regret\u001b[0m \u001b[0;34m+=\u001b[0m \u001b[0mregret_this_trial\u001b[0m\u001b[0;34m\u001b[0m\u001b[0m\n\u001b[1;32m     10\u001b[0m \u001b[0;34m\u001b[0m\u001b[0m\n",
      "\u001b[0;32m<ipython-input-3-2d3185987e73>\u001b[0m in \u001b[0;36mregret\u001b[0;34m(probabilities, choices)\u001b[0m\n\u001b[1;32m      2\u001b[0m \u001b[0;32mdef\u001b[0m \u001b[0mregret\u001b[0m\u001b[0;34m(\u001b[0m\u001b[0mprobabilities\u001b[0m\u001b[0;34m,\u001b[0m \u001b[0mchoices\u001b[0m\u001b[0;34m)\u001b[0m\u001b[0;34m:\u001b[0m\u001b[0;34m\u001b[0m\u001b[0m\n\u001b[1;32m      3\u001b[0m     \u001b[0mw_opt\u001b[0m \u001b[0;34m=\u001b[0m \u001b[0mprobabilities\u001b[0m\u001b[0;34m.\u001b[0m\u001b[0mmax\u001b[0m\u001b[0;34m(\u001b[0m\u001b[0;34m)\u001b[0m\u001b[0;34m\u001b[0m\u001b[0m\n\u001b[0;32m----> 4\u001b[0;31m     \u001b[0;32mreturn\u001b[0m\u001b[0;34m(\u001b[0m\u001b[0mw_opt\u001b[0m \u001b[0;34m-\u001b[0m \u001b[0mprobabilities\u001b[0m\u001b[0;34m[\u001b[0m\u001b[0mchoices\u001b[0m\u001b[0;34m.\u001b[0m\u001b[0mastype\u001b[0m\u001b[0;34m(\u001b[0m\u001b[0mint\u001b[0m\u001b[0;34m)\u001b[0m\u001b[0;34m]\u001b[0m\u001b[0;34m)\u001b[0m\u001b[0;34m.\u001b[0m\u001b[0mcumsum\u001b[0m\u001b[0;34m(\u001b[0m\u001b[0;34m)\u001b[0m\u001b[0;34m\u001b[0m\u001b[0m\n\u001b[0m",
      "\u001b[0;31mAttributeError\u001b[0m: 'list' object has no attribute 'astype'"
     ]
    }
   ],
   "source": [
    "# Cumulative regret:\n",
    "n_pulls = 1000 # number pulls for a trial\n",
    "n_trials = 200 # number of trials/times we repeat the experiment to get E[regret]\n",
    "expected_total_regret = np.zeros(n_pulls)\n",
    "for i in range(n_trials):\n",
    "    bandit_algo.initialize() # reset these variables to their blank states\n",
    "    bandit_algo.sample_bandits(n_pulls)\n",
    "    regret_this_trial = regret(True_bandit_probs, bandit_algo.choices)\n",
    "    expected_total_regret += regret_this_trial\n",
    "                                                "
   ]
  },
  {
   "cell_type": "code",
   "execution_count": 11,
   "metadata": {},
   "outputs": [
    {
     "data": {
      "image/png": "[encoded data removed]",
      "text/plain": [
       "<Figure size 432x288 with 1 Axes>"
      ]
     },
     "metadata": {},
     "output_type": "display_data"
    }
   ],
   "source": [
    "plt.plot(expected_total_regret/n_trials, lw =3,\n",
    "          label = \"Standard Thompson\")\n",
    "\n",
    "plt.title(\"Expected total regret of different multi-armed bandit strategies\")\n",
    "plt.xlabel(\"Number of pulls\")\n",
    "plt.ylabel(\"Expected total regret \\n after $n$ pulls\")\n",
    "plt.legend(loc=\"upper left\");\n",
    "plt.show()"
   ]
  },
  {
   "cell_type": "markdown",
   "metadata": {},
   "source": [
    "### Standard Sampler on Confounding Simulator"
   ]
  },
  {
   "cell_type": "code",
   "execution_count": 12,
   "metadata": {},
   "outputs": [],
   "source": [
    "# Input bandit probabilities\n",
    "True_bandit_probs = np.array([\n",
    "    np.array([\n",
    "        np.array([.1, .5]),\n",
    "        np.array([.4, .2])\n",
    "    ]),\n",
    "    np.array([\n",
    "        np.array([.5, .1]),\n",
    "        np.array([.2, .4])\n",
    "    ])\n",
    "])\n",
    "\n",
    "# Simulate the bandits\n",
    "bandits = ConfoundingBanditSimulator(True_bandit_probs)\n",
    "\n",
    "# Setup the environment\n",
    "env_probs = {\n",
    "    'drunk': .5,\n",
    "    'blinking': .5\n",
    "}\n",
    "environment = Environment(env_probs)\n",
    "\n",
    "# Select sampling algorithm\n",
    "bandit_algo = StandardThomspon(bandits, environment)"
   ]
  },
  {
   "cell_type": "markdown",
   "metadata": {},
   "source": [
    "Sample the bandits"
   ]
  },
  {
   "cell_type": "code",
   "execution_count": 13,
   "metadata": {},
   "outputs": [],
   "source": [
    "n_pulls = 1000\n",
    "bandit_algo.sample_bandits(n_pulls)"
   ]
  },
  {
   "cell_type": "code",
   "execution_count": 18,
   "metadata": {},
   "outputs": [
    {
     "name": "stdout",
     "output_type": "stream",
     "text": [
      "[4.000e-01 4.000e-01 5.000e-01 ... 7.996e+02 7.997e+02 8.000e+02]\n"
     ]
    },
    {
     "ename": "ValueError",
     "evalue": "operands could not be broadcast together with shapes (1000,) (4000,) (1000,) ",
     "output_type": "error",
     "traceback": [
      "\u001b[0;31m---------------------------------------------------------------------------\u001b[0m",
      "\u001b[0;31mValueError\u001b[0m                                Traceback (most recent call last)",
      "\u001b[0;32m<ipython-input-18-e3ddbecb66d1>\u001b[0m in \u001b[0;36m<module>\u001b[0;34m()\u001b[0m\n\u001b[1;32m      8\u001b[0m     \u001b[0mregret_this_trial\u001b[0m \u001b[0;34m=\u001b[0m \u001b[0mregret\u001b[0m\u001b[0;34m(\u001b[0m\u001b[0mTrue_bandit_probs\u001b[0m\u001b[0;34m,\u001b[0m \u001b[0mbandit_algo\u001b[0m\u001b[0;34m.\u001b[0m\u001b[0mchoices\u001b[0m\u001b[0;34m)\u001b[0m\u001b[0;34m\u001b[0m\u001b[0m\n\u001b[1;32m      9\u001b[0m     \u001b[0mprint\u001b[0m\u001b[0;34m(\u001b[0m\u001b[0mregret_this_trial\u001b[0m\u001b[0;34m)\u001b[0m\u001b[0;34m\u001b[0m\u001b[0m\n\u001b[0;32m---> 10\u001b[0;31m     \u001b[0mexpected_total_regret\u001b[0m \u001b[0;34m+=\u001b[0m \u001b[0mregret_this_trial\u001b[0m\u001b[0;34m\u001b[0m\u001b[0m\n\u001b[0m",
      "\u001b[0;31mValueError\u001b[0m: operands could not be broadcast together with shapes (1000,) (4000,) (1000,) "
     ]
    }
   ],
   "source": [
    "# Cumulative regret:\n",
    "n_pulls = 1000 # number pulls for a trial\n",
    "n_trials = 200 # number of trials/times we repeat the experiment to get E[regret]\n",
    "expected_total_regret = np.zeros(n_pulls)\n",
    "for i in range(n_trials):\n",
    "    bandit_algo.initialize() # reset these variables to their blank states\n",
    "    bandit_algo.sample_bandits(n_pulls)\n",
    "    regret_this_trial = regret(True_bandit_probs, bandit_algo.choices)\n",
    "    print(regret_this_trial)\n",
    "    expected_total_regret += regret_this_trial"
   ]
  },
  {
   "cell_type": "code",
   "execution_count": null,
   "metadata": {},
   "outputs": [],
   "source": []
  }
 ],
 "metadata": {
  "kernelspec": {
   "display_name": "Python 3",
   "language": "python",
   "name": "python3"
  },
  "language_info": {
   "codemirror_mode": {
    "name": "ipython",
    "version": 3
   },
   "file_extension": ".py",
   "mimetype": "text/x-python",
   "name": "python",
   "nbconvert_exporter": "python",
   "pygments_lexer": "ipython3",
   "version": "3.6.5"
  }
 },
 "nbformat": 4,
 "nbformat_minor": 2
}
