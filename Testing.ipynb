{
 "cells": [
  {
   "cell_type": "code",
   "execution_count": 1,
   "metadata": {},
   "outputs": [],
   "source": [
    "import numpy as np\n",
    "import matplotlib.pyplot as plt\n",
    "from Simulators import BanditSimulator, ConfoundingBanditSimulator\n",
    "from Samplers import StandardThomspon, CausalThomspon\n",
    "from Environment import Environment"
   ]
  },
  {
   "cell_type": "code",
   "execution_count": 2,
   "metadata": {},
   "outputs": [],
   "source": [
    "# Total Regret after n pulls:\n",
    "def regret(probabilities, choices):  \n",
    "    w_opt = probabilities.max()\n",
    "    return(w_opt - probabilities[choices.astype(int)]).cumsum()\n",
    "\n",
    "def regret_causal(probabilities, choices):\n",
    "    regret_arr = []\n",
    "    last = 0\n",
    "    for i in range(0, len(probabilities)):\n",
    "        prob = probabilities[i]\n",
    "        w_opt = prob.max()\n",
    "        reg = w_opt - prob[choices[i]]\n",
    "        regret_arr.append(reg + last)\n",
    "        last = reg + last\n",
    "    return np.array(regret_arr)"
   ]
  },
  {
   "cell_type": "markdown",
   "metadata": {},
   "source": [
    "### Standard Sampler on Non-Confounding simulator"
   ]
  },
  {
   "cell_type": "code",
   "execution_count": null,
   "metadata": {},
   "outputs": [],
   "source": [
    "# Input bandit probabilities\n",
    "True_bandit_probs = np.array([0.3, 0.60, 0.75])\n",
    "\n",
    "# Simulate the bandits\n",
    "bandits = BanditSimulator(True_bandit_probs)\n",
    "\n",
    "# Select sampling algorithm\n",
    "bandit_algo = CausalThomspon(bandits, Environment({}))"
   ]
  },
  {
   "cell_type": "markdown",
   "metadata": {},
   "source": [
    "Plot expected value of regret. For this we repeat the experiment `n_trials` times and calculate the expected value of the regret at each pull. For large values of `n_pulls` and `n_trials`, this takes a couple minutes."
   ]
  },
  {
   "cell_type": "code",
   "execution_count": null,
   "metadata": {},
   "outputs": [],
   "source": [
    "# Cumulative regret:\n",
    "n_pulls = 1000 # number pulls for a trial\n",
    "n_trials = 200 # number of trials/times we repeat the experiment to get E[regret]\n",
    "expected_total_regret = np.zeros(n_pulls)\n",
    "for i in range(n_trials):\n",
    "    bandit_algo.initialize() # reset these variables to their blank states\n",
    "    bandit_algo.sample_bandits(n_pulls)\n",
    "    regret_this_trial = regret(True_bandit_probs, np.array(bandit_algo.choices))\n",
    "    expected_total_regret += regret_this_trial\n",
    "                                                "
   ]
  },
  {
   "cell_type": "code",
   "execution_count": null,
   "metadata": {},
   "outputs": [],
   "source": [
    "plt.plot(expected_total_regret/n_trials, lw =3,\n",
    "          label = \"Standard Thompson\")\n",
    "\n",
    "plt.title(\"Expected total regret of different multi-armed bandit strategies\")\n",
    "plt.xlabel(\"Number of pulls\")\n",
    "plt.ylabel(\"Expected total regret \\n after $n$ pulls\")\n",
    "plt.legend(loc=\"upper left\");\n",
    "plt.show()"
   ]
  },
  {
   "cell_type": "markdown",
   "metadata": {},
   "source": [
    "### Standard and Causal Sampler on Confounding Simulator"
   ]
  },
  {
   "cell_type": "code",
   "execution_count": 6,
   "metadata": {},
   "outputs": [],
   "source": [
    "# Setup the bandit sampler\n",
    "causal_bandit_probs = np.array([\n",
    "    np.array([\n",
    "        np.array([.1, .5]),\n",
    "        np.array([.4, .2])\n",
    "    ]),\n",
    "    np.array([\n",
    "        np.array([.5, .1]),\n",
    "        np.array([.2, .4])\n",
    "    ])\n",
    "])\n",
    "confoundingBandits = ConfoundingBanditSimulator(causal_bandit_probs)\n",
    "\n",
    "# Setup the environment\n",
    "environment_probs = {\n",
    "    'drunk': .5,\n",
    "    'blinking': .5\n",
    "}\n",
    "environment = Environment(environment_probs)"
   ]
  },
  {
   "cell_type": "code",
   "execution_count": 8,
   "metadata": {},
   "outputs": [
    {
     "name": "stdout",
     "output_type": "stream",
     "text": [
      "0\n",
      "1\n",
      "2\n",
      "3\n",
      "4\n",
      "5\n",
      "6\n",
      "7\n",
      "8\n",
      "9\n",
      "10\n",
      "11\n",
      "12\n",
      "13\n",
      "14\n",
      "15\n",
      "16\n",
      "17\n",
      "18\n",
      "19\n",
      "20\n",
      "21\n",
      "22\n",
      "23\n",
      "24\n",
      "25\n",
      "26\n",
      "27\n",
      "28\n",
      "29\n",
      "30\n",
      "31\n",
      "32\n",
      "33\n",
      "34\n",
      "35\n",
      "36\n",
      "37\n",
      "38\n",
      "39\n",
      "40\n",
      "41\n",
      "42\n",
      "43\n",
      "44\n",
      "45\n",
      "46\n",
      "47\n",
      "48\n",
      "49\n",
      "50\n",
      "51\n",
      "52\n",
      "53\n",
      "54\n",
      "55\n",
      "56\n",
      "57\n",
      "58\n",
      "59\n",
      "60\n",
      "61\n",
      "62\n",
      "63\n",
      "64\n",
      "65\n",
      "66\n",
      "67\n",
      "68\n",
      "69\n",
      "70\n",
      "71\n",
      "72\n",
      "73\n",
      "74\n",
      "75\n",
      "76\n",
      "77\n",
      "78\n",
      "79\n"
     ]
    },
    {
     "ename": "IndexError",
     "evalue": "list index out of range",
     "output_type": "error",
     "traceback": [
      "\u001b[0;31m---------------------------------------------------------------------------\u001b[0m",
      "\u001b[0;31mIndexError\u001b[0m                                Traceback (most recent call last)",
      "\u001b[0;32m<ipython-input-8-49c4d7702dab>\u001b[0m in \u001b[0;36m<module>\u001b[0;34m()\u001b[0m\n\u001b[1;32m     17\u001b[0m         \u001b[0mblinking\u001b[0m \u001b[0;34m=\u001b[0m \u001b[0mint\u001b[0m\u001b[0;34m(\u001b[0m\u001b[0menv\u001b[0m\u001b[0;34m[\u001b[0m\u001b[0;34m'blinking'\u001b[0m\u001b[0;34m]\u001b[0m\u001b[0;34m)\u001b[0m\u001b[0;34m\u001b[0m\u001b[0m\n\u001b[1;32m     18\u001b[0m \u001b[0;34m\u001b[0m\u001b[0m\n\u001b[0;32m---> 19\u001b[0;31m         \u001b[0mprobs\u001b[0m \u001b[0;34m=\u001b[0m \u001b[0mcausal_bandit_probs\u001b[0m\u001b[0;34m[\u001b[0m\u001b[0mdrunk\u001b[0m\u001b[0;34m]\u001b[0m\u001b[0;34m[\u001b[0m\u001b[0mblinking\u001b[0m\u001b[0;34m]\u001b[0m\u001b[0;34m\u001b[0m\u001b[0m\n\u001b[0m\u001b[1;32m     20\u001b[0m         \u001b[0mtrial_probs\u001b[0m\u001b[0;34m.\u001b[0m\u001b[0mappend\u001b[0m\u001b[0;34m(\u001b[0m\u001b[0mprobs\u001b[0m\u001b[0;34m)\u001b[0m\u001b[0;34m\u001b[0m\u001b[0m\n\u001b[1;32m     21\u001b[0m \u001b[0;34m\u001b[0m\u001b[0m\n",
      "\u001b[0;31mIndexError\u001b[0m: list index out of range"
     ]
    }
   ],
   "source": [
    "# Select sampling algorithm\n",
    "# bandit_algo = StandardThomspon(bandits, environment)\n",
    "causal_bandit_algo = CausalThomspon(confoundingBandits, environment)\n",
    "\n",
    "# Cumulative regret:\n",
    "n_pulls = 80 # number pulls for a trial\n",
    "n_trials = 1 # number of trials/times we repeat the experiment to get E[regret]\n",
    "expected_total_regret = np.zeros(n_pulls)\n",
    "for i in range(n_trials):\n",
    "    \n",
    "    causal_bandit_algo.initialize()\n",
    "    causal_bandit_algo.sample_bandits(n_pulls)\n",
    "    \n",
    "    trial_probs = []\n",
    "    for env in causal_bandit_algo.observed_envs:\n",
    "        drunk = int(env['drunk'])\n",
    "        blinking = int(env['blinking'])\n",
    "        \n",
    "        probs = causal_bandit_probs[drunk][blinking]\n",
    "        trial_probs.append(probs)\n",
    "    \n",
    "    regret_this_trial = regret_causal(causal_bandit_probs, causal_bandit_algo.choices)\n",
    "    expected_total_regret += regret_this_trial"
   ]
  },
  {
   "cell_type": "code",
   "execution_count": 4,
   "metadata": {},
   "outputs": [
    {
     "data": {
      "image/png": "[encoded data removed]",
      "text/plain": [
       "<Figure size 432x288 with 1 Axes>"
      ]
     },
     "metadata": {},
     "output_type": "display_data"
    }
   ],
   "source": [
    "plt.plot(expected_total_regret/n_trials, lw =3,\n",
    "          label = \"Causal Thompson\")\n",
    "\n",
    "plt.title(\"Expected total regret of different multi-armed bandit strategies\")\n",
    "plt.xlabel(\"Number of pulls\")\n",
    "plt.ylabel(\"Expected total regret \\n after $n$ pulls\")\n",
    "plt.legend(loc=\"upper left\");\n",
    "plt.show()"
   ]
  },
  {
   "cell_type": "code",
   "execution_count": null,
   "metadata": {},
   "outputs": [],
   "source": []
  }
 ],
 "metadata": {
  "kernelspec": {
   "display_name": "Python 3",
   "language": "python",
   "name": "python3"
  },
  "language_info": {
   "codemirror_mode": {
    "name": "ipython",
    "version": 3
   },
   "file_extension": ".py",
   "mimetype": "text/x-python",
   "name": "python",
   "nbconvert_exporter": "python",
   "pygments_lexer": "ipython3",
   "version": "3.6.5"
  }
 },
 "nbformat": 4,
 "nbformat_minor": 2
}
