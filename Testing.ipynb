{
 "cells": [
  {
   "cell_type": "code",
   "execution_count": 1,
   "metadata": {},
   "outputs": [],
   "source": [
    "import numpy as np\n",
    "import matplotlib.pyplot as plt"
   ]
  },
  {
   "cell_type": "markdown",
   "metadata": {},
   "source": [
    "Import .py functions"
   ]
  },
  {
   "cell_type": "code",
   "execution_count": 2,
   "metadata": {},
   "outputs": [],
   "source": [
    "from Simulators import BanditSimulator, ConfoundingBanditSimulator\n",
    "from Samplers import StandardThomspon, CausalThomspon\n",
    "from Environment import Environment"
   ]
  },
  {
   "cell_type": "code",
   "execution_count": 3,
   "metadata": {},
   "outputs": [],
   "source": [
    "# Total Regret after n pulls:\n",
    "def regret(probabilities, choices):  \n",
    "    w_opt = probabilities.max()\n",
    "    return(w_opt - probabilities[choices.astype(int)]).cumsum()"
   ]
  },
  {
   "cell_type": "markdown",
   "metadata": {},
   "source": [
    "### Standard Sampler on Non-Confounding simulator"
   ]
  },
  {
   "cell_type": "code",
   "execution_count": null,
   "metadata": {},
   "outputs": [],
   "source": [
    "# Input bandit probabilities\n",
    "True_bandit_probs = np.array([0.3, 0.60, 0.75])\n",
    "\n",
    "# Simulate the bandits\n",
    "bandits = BanditSimulator(True_bandit_probs)\n",
    "\n",
    "# Select sampling algorithm\n",
    "bandit_algo = CausalThomspon(bandits, Environment({}))"
   ]
  },
  {
   "cell_type": "markdown",
   "metadata": {},
   "source": [
    "If you want to simply run the bandit algorithm, do:"
   ]
  },
  {
   "cell_type": "code",
   "execution_count": null,
   "metadata": {},
   "outputs": [],
   "source": [
    "n_pulls = 100\n",
    "bandit_algo.sample_bandits(n_pulls)"
   ]
  },
  {
   "cell_type": "markdown",
   "metadata": {},
   "source": [
    "You can check the trials with:"
   ]
  },
  {
   "cell_type": "code",
   "execution_count": null,
   "metadata": {},
   "outputs": [],
   "source": [
    "bandit_algo.trials"
   ]
  },
  {
   "cell_type": "markdown",
   "metadata": {},
   "source": [
    "The successes with:"
   ]
  },
  {
   "cell_type": "code",
   "execution_count": null,
   "metadata": {},
   "outputs": [],
   "source": [
    "bandit_algo.wins"
   ]
  },
  {
   "cell_type": "markdown",
   "metadata": {},
   "source": [
    "And the choices"
   ]
  },
  {
   "cell_type": "code",
   "execution_count": null,
   "metadata": {
    "scrolled": true
   },
   "outputs": [],
   "source": [
    "bandit_algo.choices"
   ]
  },
  {
   "cell_type": "markdown",
   "metadata": {},
   "source": [
    "Plot expected value of regret. For this we repeat the experiment `n_trials` times and calculate the expected value of the regret at each pull. For large values of `n_pulls` and `n_trials`, this takes a couple minutes."
   ]
  },
  {
   "cell_type": "code",
   "execution_count": null,
   "metadata": {},
   "outputs": [],
   "source": [
    "# Cumulative regret:\n",
    "n_pulls = 1000 # number pulls for a trial\n",
    "n_trials = 200 # number of trials/times we repeat the experiment to get E[regret]\n",
    "expected_total_regret = np.zeros(n_pulls)\n",
    "for i in range(n_trials):\n",
    "    bandit_algo.initialize() # reset these variables to their blank states\n",
    "    bandit_algo.sample_bandits(n_pulls)\n",
    "    regret_this_trial = regret(True_bandit_probs, np.array(bandit_algo.choices))\n",
    "    expected_total_regret += regret_this_trial\n",
    "                                                "
   ]
  },
  {
   "cell_type": "code",
   "execution_count": null,
   "metadata": {},
   "outputs": [],
   "source": [
    "plt.plot(expected_total_regret/n_trials, lw =3,\n",
    "          label = \"Standard Thompson\")\n",
    "\n",
    "plt.title(\"Expected total regret of different multi-armed bandit strategies\")\n",
    "plt.xlabel(\"Number of pulls\")\n",
    "plt.ylabel(\"Expected total regret \\n after $n$ pulls\")\n",
    "plt.legend(loc=\"upper left\");\n",
    "plt.show()"
   ]
  },
  {
   "cell_type": "markdown",
   "metadata": {},
   "source": [
    "### Standard and Causal Sampler on Confounding Simulator"
   ]
  },
  {
   "cell_type": "code",
   "execution_count": 4,
   "metadata": {},
   "outputs": [],
   "source": [
    "# Input bandit probabilities\n",
    "True_bandit_probs = np.array([\n",
    "    np.array([\n",
    "        np.array([.1, .5]),\n",
    "        np.array([.4, .2])\n",
    "    ]),\n",
    "    np.array([\n",
    "        np.array([.5, .1]),\n",
    "        np.array([.2, .4])\n",
    "    ])\n",
    "])\n",
    "\n",
    "# Simulate the bandits\n",
    "bandits = ConfoundingBanditSimulator(True_bandit_probs)\n",
    "\n",
    "# Setup the environment\n",
    "env_probs = {\n",
    "    'drunk': .5,\n",
    "    'blinking': .5\n",
    "}\n",
    "\n",
    "environment = Environment(env_probs)\n",
    "\n",
    "# Select sampling algorithm\n",
    "# bandit_algo = StandardThomspon(bandits, environment)\n",
    "causal_bandit_algo = CausalThomspon(bandits, environment)"
   ]
  },
  {
   "cell_type": "code",
   "execution_count": 5,
   "metadata": {},
   "outputs": [],
   "source": [
    "def regret_causal(probabilities, choices):\n",
    "    regret_arr = []\n",
    "    last = 0\n",
    "    for i in range(0, len(probabilities)):\n",
    "        prob = probabilities[i]\n",
    "        w_opt = prob.max()\n",
    "        reg = w_opt - prob[choices[i]]\n",
    "        regret_arr.append(reg + last)\n",
    "        last = reg + last\n",
    "    return np.array(regret_arr)\n",
    "\n",
    "# Cumulative regret:\n",
    "n_pulls = 1000 # number pulls for a trial\n",
    "n_trials = 5 # number of trials/times we repeat the experiment to get E[regret]\n",
    "expected_total_regret = np.zeros(n_pulls)\n",
    "for i in range(n_trials):\n",
    "#     bandit_algo.initialize() # reset these variables to their blank states\n",
    "#     bandit_algo.sample_bandits(n_pulls)\n",
    "    \n",
    "    causal_bandit_algo.initialize()\n",
    "    causal_bandit_algo.sample_bandits(n_pulls)\n",
    "    \n",
    "#     bandit_probs = []\n",
    "#     for env in bandit_algo.observed_envs:\n",
    "#         drunk = int(env['drunk'])\n",
    "#         blinking = int(env['blinking'])\n",
    "        \n",
    "#         probs = True_bandit_probs[drunk][blinking]\n",
    "#         bandit_probs.append(probs)\n",
    "    \n",
    "#     regret_this_trial = regret_causal(bandit_probs, bandit_algo.choices)\n",
    "#     expected_total_regret += regret_this_trial\n",
    "    \n",
    "    \n",
    "    causal_bandit_probs = []\n",
    "    for env in causal_bandit_algo.observed_envs:\n",
    "        drunk = int(env['drunk'])\n",
    "        blinking = int(env['blinking'])\n",
    "        \n",
    "        probs = True_bandit_probs[drunk][blinking]\n",
    "        causal_bandit_probs.append(probs)\n",
    "    \n",
    "    regret_this_trial = regret_causal(causal_bandit_probs, causal_bandit_algo.choices)\n",
    "    expected_total_regret += regret_this_trial"
   ]
  },
  {
   "cell_type": "code",
   "execution_count": 6,
   "metadata": {},
   "outputs": [
    {
     "data": {
      "image/png": "[encoded data removed]",
      "text/plain": [
       "<Figure size 432x288 with 1 Axes>"
      ]
     },
     "metadata": {
      "needs_background": "light"
     },
     "output_type": "display_data"
    }
   ],
   "source": [
    "plt.plot(expected_total_regret/n_trials, lw =3,\n",
    "          label = \"Causal Thompson\")\n",
    "\n",
    "plt.title(\"Expected total regret of different multi-armed bandit strategies\")\n",
    "plt.xlabel(\"Number of pulls\")\n",
    "plt.ylabel(\"Expected total regret \\n after $n$ pulls\")\n",
    "plt.legend(loc=\"upper left\");\n",
    "plt.show()"
   ]
  },
  {
   "cell_type": "code",
   "execution_count": null,
   "metadata": {},
   "outputs": [],
   "source": []
  },
  {
   "cell_type": "code",
   "execution_count": null,
   "metadata": {
    "scrolled": true
   },
   "outputs": [],
   "source": []
  }
 ],
 "metadata": {
  "kernelspec": {
   "display_name": "Python 3",
   "language": "python",
   "name": "python3"
  },
  "language_info": {
   "codemirror_mode": {
    "name": "ipython",
    "version": 3
   },
   "file_extension": ".py",
   "mimetype": "text/x-python",
   "name": "python",
   "nbconvert_exporter": "python",
   "pygments_lexer": "ipython3",
   "version": "3.7.1"
  }
 },
 "nbformat": 4,
 "nbformat_minor": 2
}
